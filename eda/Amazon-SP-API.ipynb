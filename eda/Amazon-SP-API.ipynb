{
 "cells": [
  {
   "cell_type": "markdown",
   "id": "f0183f33-303c-4248-9752-b52c8ff1d16f",
   "metadata": {
    "tags": []
   },
   "source": [
    "## Exploring Amazon Data: Unlocking Amazon Report Retrieval for Insights and Analysis"
   ]
  },
  {
   "cell_type": "code",
   "execution_count": 1,
   "id": "fb1cad71",
   "metadata": {
    "tags": []
   },
   "outputs": [],
   "source": [
    "import os\n",
    "import datetime\n",
    "import time\n",
    "import glob\n",
    "\n",
    "import dotenv\n",
    "\n",
    "import seaborn as sns\n",
    "from tqdm import tqdm\n",
    "import pandas as pd\n",
    "import matplotlib.pyplot as plt\n",
    "\n",
    "from sp_api.base import Marketplaces,Granularity\n",
    "from sp_api.api import Orders,Inventories,Products,Reports,Sales\n",
    "from sp_api.base.reportTypes import ReportType\n"
   ]
  },
  {
   "cell_type": "code",
   "execution_count": 3,
   "id": "dcaaa301",
   "metadata": {},
   "outputs": [],
   "source": [
    "#%load_ext dotenv\n",
    "#%dotenv"
   ]
  },
  {
   "cell_type": "markdown",
   "id": "9769e187-7f3b-4917-8eeb-a73934cbf755",
   "metadata": {},
   "source": [
    "### All configurations have to be done. View documentation at [Amazon Selling Partner API](https://developer-docs.amazon.com/sp-api/docs/what-is-the-selling-partner-api)\n"
   ]
  },
  {
   "cell_type": "code",
   "execution_count": 2,
   "id": "62982d9f",
   "metadata": {
    "tags": []
   },
   "outputs": [],
   "source": [
    "credentials = dict(\n",
    "        refresh_token=os.environ.get('REFRESH_TOKEN'),\n",
    "        lwa_app_id=os.environ.get('LWA_APP_ID'),\n",
    "        lwa_client_secret=os.environ.get('LWA_CLIENT_SECRET'),\n",
    "        aws_secret_key=os.environ.get('AWS_SECRET_KEY'),\n",
    "        aws_access_key=os.environ.get('AWS_ACCESS_KEY'),\n",
    "        role_arn=os.environ.get('ROLE_ARN'))\n",
    "\n",
    "marketplaceIds = \"A1PA6795UKMFR9\""
   ]
  },
  {
   "cell_type": "code",
   "execution_count": 3,
   "id": "7090cd17",
   "metadata": {
    "tags": []
   },
   "outputs": [],
   "source": [
    "reports = Reports(credentials=credentials,marketplace=Marketplaces.DE)"
   ]
  },
  {
   "cell_type": "code",
   "execution_count": 8,
   "id": "619af238-c09c-4168-b058-3162999b0acc",
   "metadata": {
    "tags": []
   },
   "outputs": [],
   "source": [
    "def fetch_amz_reports(rep, markt_id, test_fetch=False):\n",
    "    \"\"\"\n",
    "    function to fetch reports from Amazon and saves them to the local directory.\n",
    "\n",
    "    Args:\n",
    "        rep (str): The report type to fetch.\n",
    "        markt_id (str): The marketplace ID to fetch the report from.\n",
    "        test_fetch (bool, optional): Whether to perform a test fetch. Defaults to False.\n",
    "    \"\"\"\n",
    "    data_dir = \"../amzdata\"\n",
    "    max_no = 3 if test_fetch else -1\n",
    "\n",
    "    # Loop through each report type\n",
    "    for reporttype in list(ReportType)[:max_no]:\n",
    "        try:\n",
    "            # Create report\n",
    "            report = rep.create_report(\n",
    "                reportType=reporttype,\n",
    "                dataStartTime=\"2023-01-01T00:00:00.000Z\",\n",
    "                marketplaceIds=[markt_id],\n",
    "            )\n",
    "        except Exception as e:\n",
    "            print(e)\n",
    "            \n",
    "        else:\n",
    "            # Create a variable to store the report status\n",
    "            processingStatus = None\n",
    "\n",
    "            # Loop through the report status for at most 20 times\n",
    "            for _ in range(20):\n",
    "                # Get the report status\n",
    "                status = rep.get_report(report.payload[\"reportId\"])\n",
    "                # Print the report status\n",
    "                print(status.processingStatus)\n",
    "                # If the report is done, cancelled, or failed, set the processingStatus to its status\n",
    "                if status.processingStatus in [\"DONE\", \"CANCELLED\", \"FATAL\"]:\n",
    "                    processingStatus = status.processingStatus\n",
    "                    break\n",
    "                # Wait 3 seconds between each status update\n",
    "                time.sleep(3)\n",
    "            else:\n",
    "                # If the report takes too long to process, print this message\n",
    "                print(\"it take too long time to fetch data\")\n",
    "\n",
    "            # If the report is done, save it to a file\n",
    "            if processingStatus == \"DONE\":\n",
    "                # If the report type is XML, save it as an XML file\n",
    "                if \"XML\" in status.reportType:\n",
    "                    file = str(status.reportType).split(\"GET_\")[1] + \".xml\"\n",
    "                # othwise save it as a CSV file\n",
    "                else:\n",
    "                    file = str(status.reportType).split(\"GET_\")[1] + \".csv\"\n",
    "\n",
    "                # Save the report to the local directory\n",
    "                rep.get_report_document(\n",
    "                    status.reportDocumentId, download=True, file=os.path.join(data_dir,file)\n",
    "                )\n"
   ]
  },
  {
   "cell_type": "code",
   "execution_count": 9,
   "id": "01fb1982-630d-4b14-893a-64a046fcc39b",
   "metadata": {
    "tags": []
   },
   "outputs": [
    {
     "name": "stdout",
     "output_type": "stream",
     "text": [
      "IN_QUEUE\n",
      "IN_QUEUE\n",
      "IN_PROGRESS\n",
      "IN_PROGRESS\n",
      "IN_PROGRESS\n",
      "IN_PROGRESS\n",
      "DONE\n",
      "IN_QUEUE\n",
      "IN_QUEUE\n",
      "IN_QUEUE\n",
      "IN_PROGRESS\n",
      "IN_PROGRESS\n",
      "IN_PROGRESS\n",
      "DONE\n",
      "IN_QUEUE\n",
      "IN_QUEUE\n",
      "IN_PROGRESS\n",
      "IN_PROGRESS\n",
      "IN_PROGRESS\n",
      "DONE\n"
     ]
    }
   ],
   "source": [
    "fetch_amz_reports(reports,marketplaceIds, test_fetch = True)"
   ]
  },
  {
   "cell_type": "code",
   "execution_count": 10,
   "id": "fa9be979",
   "metadata": {
    "tags": []
   },
   "outputs": [
    {
     "name": "stdout",
     "output_type": "stream",
     "text": [
      "ReportType.GET_V2_SELLER_PERFORMANCE_REPORT\n",
      "ReportType.GET_FLAT_FILE_OPEN_LISTINGS_DATA\n",
      "ReportType.GET_MERCHANT_LISTINGS_ALL_DATA\n",
      "ReportType.GET_MERCHANT_LISTINGS_DATA\n",
      "ReportType.GET_MERCHANT_LISTINGS_INACTIVE_DATA\n"
     ]
    }
   ],
   "source": [
    "for reporttype in list(ReportType)[0:5]:\n",
    "    print(reporttype)"
   ]
  },
  {
   "cell_type": "code",
   "execution_count": 14,
   "id": "84f3a653",
   "metadata": {
    "tags": []
   },
   "outputs": [
    {
     "data": {
      "text/html": [
       "<div>\n",
       "<style scoped>\n",
       "    .dataframe tbody tr th:only-of-type {\n",
       "        vertical-align: middle;\n",
       "    }\n",
       "\n",
       "    .dataframe tbody tr th {\n",
       "        vertical-align: top;\n",
       "    }\n",
       "\n",
       "    .dataframe thead th {\n",
       "        text-align: right;\n",
       "    }\n",
       "</style>\n",
       "<table border=\"1\" class=\"dataframe\">\n",
       "  <thead>\n",
       "    <tr style=\"text-align: right;\">\n",
       "      <th></th>\n",
       "      <th>0</th>\n",
       "      <th>1</th>\n",
       "      <th>2</th>\n",
       "      <th>3</th>\n",
       "      <th>4</th>\n",
       "      <th>5</th>\n",
       "      <th>6</th>\n",
       "      <th>7</th>\n",
       "      <th>8</th>\n",
       "      <th>9</th>\n",
       "      <th>10</th>\n",
       "      <th>11</th>\n",
       "    </tr>\n",
       "  </thead>\n",
       "  <tbody>\n",
       "    <tr>\n",
       "      <th>241</th>\n",
       "      <td>13.1.2023</td>\n",
       "      <td>Veröffentlicht</td>\n",
       "      <td>Commingling VAT</td>\n",
       "      <td>1410574663</td>\n",
       "      <td>Tajima Ersatzklingen für Cutter (Breite 18 mm,...</td>\n",
       "      <td>0</td>\n",
       "      <td>0</td>\n",
       "      <td>0</td>\n",
       "      <td>-2.73</td>\n",
       "      <td>-2.73</td>\n",
       "      <td>NaN</td>\n",
       "      <td>NaN</td>\n",
       "    </tr>\n",
       "    <tr>\n",
       "      <th>484</th>\n",
       "      <td>12.1.2023</td>\n",
       "      <td>Veröffentlicht</td>\n",
       "      <td>Commingling VAT</td>\n",
       "      <td>1410285403</td>\n",
       "      <td>Tajima Extrastarke Cutterklinge (Ersatzklinge)...</td>\n",
       "      <td>0</td>\n",
       "      <td>0</td>\n",
       "      <td>0</td>\n",
       "      <td>1.43</td>\n",
       "      <td>1.43</td>\n",
       "      <td>NaN</td>\n",
       "      <td>NaN</td>\n",
       "    </tr>\n",
       "    <tr>\n",
       "      <th>24</th>\n",
       "      <td>13.1.2023</td>\n",
       "      <td>Veröffentlicht</td>\n",
       "      <td>Bezahlung der Bestellung</td>\n",
       "      <td>306-4282995-5148342</td>\n",
       "      <td>SONAX Aktionsset KratzerEntferner Lack (...</td>\n",
       "      <td>10.46</td>\n",
       "      <td>0</td>\n",
       "      <td>-4.96</td>\n",
       "      <td>1.99</td>\n",
       "      <td>7.49</td>\n",
       "      <td>NaN</td>\n",
       "      <td>NaN</td>\n",
       "    </tr>\n",
       "    <tr>\n",
       "      <th>157</th>\n",
       "      <td>13.1.2023</td>\n",
       "      <td>Veröffentlicht</td>\n",
       "      <td>Commingling VAT</td>\n",
       "      <td>1410643613</td>\n",
       "      <td>Tajima JUMP-SAW Klappsäge (Japansäge, Säge) mi...</td>\n",
       "      <td>0</td>\n",
       "      <td>0</td>\n",
       "      <td>0</td>\n",
       "      <td>-6.11</td>\n",
       "      <td>-6.11</td>\n",
       "      <td>NaN</td>\n",
       "      <td>NaN</td>\n",
       "    </tr>\n",
       "    <tr>\n",
       "      <th>479</th>\n",
       "      <td>12.1.2023</td>\n",
       "      <td>Veröffentlicht</td>\n",
       "      <td>Commingling VAT</td>\n",
       "      <td>1410294933</td>\n",
       "      <td>Stehle HW HKS-Massiv Kreissägeblatt für Akku-H...</td>\n",
       "      <td>0</td>\n",
       "      <td>0</td>\n",
       "      <td>0</td>\n",
       "      <td>8.14</td>\n",
       "      <td>8.14</td>\n",
       "      <td>NaN</td>\n",
       "      <td>NaN</td>\n",
       "    </tr>\n",
       "  </tbody>\n",
       "</table>\n",
       "</div>"
      ],
      "text/plain": [
       "             0               1                         2                    3  \\\n",
       "241  13.1.2023  Veröffentlicht           Commingling VAT           1410574663   \n",
       "484  12.1.2023  Veröffentlicht           Commingling VAT           1410285403   \n",
       "24   13.1.2023  Veröffentlicht  Bezahlung der Bestellung  306-4282995-5148342   \n",
       "157  13.1.2023  Veröffentlicht           Commingling VAT           1410643613   \n",
       "479  12.1.2023  Veröffentlicht           Commingling VAT           1410294933   \n",
       "\n",
       "                                                     4      5  6      7  \\\n",
       "241  Tajima Ersatzklingen für Cutter (Breite 18 mm,...      0  0      0   \n",
       "484  Tajima Extrastarke Cutterklinge (Ersatzklinge)...      0  0      0   \n",
       "24         SONAX Aktionsset KratzerEntferner Lack (...  10.46  0  -4.96   \n",
       "157  Tajima JUMP-SAW Klappsäge (Japansäge, Säge) mi...      0  0      0   \n",
       "479  Stehle HW HKS-Massiv Kreissägeblatt für Akku-H...      0  0      0   \n",
       "\n",
       "         8      9  10  11  \n",
       "241  -2.73  -2.73 NaN NaN  \n",
       "484   1.43   1.43 NaN NaN  \n",
       "24    1.99   7.49 NaN NaN  \n",
       "157  -6.11  -6.11 NaN NaN  \n",
       "479   8.14   8.14 NaN NaN  "
      ]
     },
     "execution_count": 14,
     "metadata": {},
     "output_type": "execute_result"
    }
   ],
   "source": [
    "# ParserError: Error tokenizing data. C error: Expected 10 fields in line 371, saw 12\n",
    "colnames= [str(i) for i in range(12)]\n",
    "amz_bericht = pd.read_csv('../amzdata/Transaktionen fu?r den Zeitr aum 12.1.2023 – 13.1.2023.csv',names=colnames)\n",
    "amz_bericht.sample(5)"
   ]
  },
  {
   "cell_type": "code",
   "execution_count": 13,
   "id": "20ac54c0-35c0-42fb-8020-d0b8d3e2c581",
   "metadata": {
    "tags": []
   },
   "outputs": [],
   "source": [
    "def recorrect_columns(df):\n",
    "    \"\"\"\n",
    "    Recorrects the columns of a pandas DataFrame by dropping columns with null values in the 10th column,\n",
    "    shifting the remaining columns to the left, and converting the data type of the columns from the 6th column\n",
    "    onwards to numeric.\n",
    "\n",
    "    Args:\n",
    "        df (pandas.DataFrame): The DataFrame to be recorrected.\n",
    "\n",
    "    Returns:\n",
    "        pandas.DataFrame: The recorrected DataFrame.\n",
    "    \"\"\"\n",
    "    # for each row in the dataframe that has a value in column 10\n",
    "    for index in df.loc[df[\"10\"].notnull()].index:\n",
    "        # find the number of columns that should be removed\n",
    "        col_dif = len(df.columns) - 10\n",
    "        # set the column number to 5\n",
    "        column = 5\n",
    "        # for each column in the dataframe in reverse order\n",
    "        for i in range(len(df.columns) - 1, 9, -1):\n",
    "            # set the value of the cell in the current row and column to the value of the cell in the current row and column plus the difference in columns\n",
    "            if df.iloc[index, i] == \"NaN\":\n",
    "                # subtract 1 from the column difference\n",
    "                col_dif -= 1\n",
    "        # for each column in the dataframe in reverse order        \n",
    "        for i in range(len(df.columns) - 1, 4, -1):\n",
    "            # set the value of the cell in the current row and column to the value of the cell in the current row and column plus the difference in columns\n",
    "            df.iloc[index, column] = df.iloc[index, column + col_dif]\n",
    "            # add 1 to the column value\n",
    "            column += 1\n",
    "            if column == 10:\n",
    "                break\n",
    "        # for each column in the dataframe that is not in the first 5 columns\n",
    "        for i in range(len(df.columns) - 10):\n",
    "            # drop the column\n",
    "            df.drop(str(10 + i), axis=1, inplace=True)\n",
    "        # set the column names to the values in the first row    \n",
    "        df.columns = df.iloc[0]\n",
    "        df = df[1:]\n",
    "        # for each column in the dataframe that is not in the first 5 columns\n",
    "        for column in df.columns[5:]:\n",
    "            # set the value of the column to a numeric data type\n",
    "            df[column] = pd.to_numeric(df[column])\n",
    "            \n",
    "    return df\n"
   ]
  },
  {
   "cell_type": "code",
   "execution_count": 15,
   "id": "9c13ea6d-b84b-4639-b97e-f720ba310c40",
   "metadata": {
    "tags": []
   },
   "outputs": [
    {
     "name": "stderr",
     "output_type": "stream",
     "text": [
      "/var/folders/b8/g_kq7hks5k514lxq387j61600000gn/T/ipykernel_52512/3038606196.py:43: SettingWithCopyWarning: \n",
      "A value is trying to be set on a copy of a slice from a DataFrame.\n",
      "Try using .loc[row_indexer,col_indexer] = value instead\n",
      "\n",
      "See the caveats in the documentation: https://pandas.pydata.org/pandas-docs/stable/user_guide/indexing.html#returning-a-view-versus-a-copy\n",
      "  df[column] = pd.to_numeric(df[column])\n"
     ]
    }
   ],
   "source": [
    "amz_bericht = recorrect_columns(amz_bericht)"
   ]
  },
  {
   "cell_type": "code",
   "execution_count": 16,
   "id": "ea0c8885-4330-4d8d-8eaf-732ff9d786c1",
   "metadata": {
    "tags": []
   },
   "outputs": [],
   "source": [
    "def highlight_max(cell):\n",
    "    \n",
    "    if type(cell) != str and cell < 0 :\n",
    "        return 'color: red'\n",
    "    else:\n",
    "        return 'color: white'\n",
    " "
   ]
  },
  {
   "cell_type": "code",
   "execution_count": 17,
   "id": "12a96028-6e23-4a67-9da2-27e0013902bf",
   "metadata": {
    "tags": []
   },
   "outputs": [
    {
     "name": "stderr",
     "output_type": "stream",
     "text": [
      "/var/folders/b8/g_kq7hks5k514lxq387j61600000gn/T/ipykernel_52512/241308855.py:1: FutureWarning: The default value of numeric_only in DataFrameGroupBy.sum is deprecated. In a future version, numeric_only will default to False. Either specify numeric_only or select only columns which should be valid for the function.\n",
      "  group = amz_bericht.groupby('Transaktionstyp').sum()\n"
     ]
    }
   ],
   "source": [
    "group = amz_bericht.groupby('Transaktionstyp').sum()"
   ]
  },
  {
   "cell_type": "code",
   "execution_count": 18,
   "id": "e2257378-5db4-45a8-8444-0e1f221f44f2",
   "metadata": {
    "tags": []
   },
   "outputs": [
    {
     "data": {
      "text/html": [
       "<style type=\"text/css\">\n",
       "#T_f4e56_row0_col0, #T_f4e56_row0_col1, #T_f4e56_row0_col2, #T_f4e56_row0_col3, #T_f4e56_row0_col4, #T_f4e56_row1_col1, #T_f4e56_row1_col2, #T_f4e56_row2_col0, #T_f4e56_row2_col3, #T_f4e56_row2_col4, #T_f4e56_row3_col0, #T_f4e56_row3_col1, #T_f4e56_row3_col2, #T_f4e56_row4_col1, #T_f4e56_row4_col2, #T_f4e56_row5_col0, #T_f4e56_row5_col1, #T_f4e56_row5_col2, #T_f4e56_row6_col0, #T_f4e56_row6_col1, #T_f4e56_row6_col2, #T_f4e56_row6_col3, #T_f4e56_row6_col4, #T_f4e56_row7_col0, #T_f4e56_row7_col1, #T_f4e56_row7_col2 {\n",
       "  color: white;\n",
       "}\n",
       "#T_f4e56_row1_col0, #T_f4e56_row1_col3, #T_f4e56_row1_col4, #T_f4e56_row2_col1, #T_f4e56_row2_col2, #T_f4e56_row3_col3, #T_f4e56_row3_col4, #T_f4e56_row4_col0, #T_f4e56_row4_col3, #T_f4e56_row4_col4, #T_f4e56_row5_col3, #T_f4e56_row5_col4, #T_f4e56_row7_col3, #T_f4e56_row7_col4 {\n",
       "  color: red;\n",
       "}\n",
       "</style>\n",
       "<table id=\"T_f4e56\">\n",
       "  <thead>\n",
       "    <tr>\n",
       "      <th class=\"index_name level0\" >0</th>\n",
       "      <th id=\"T_f4e56_level0_col0\" class=\"col_heading level0 col0\" >Artikelpreise gesamt</th>\n",
       "      <th id=\"T_f4e56_level0_col1\" class=\"col_heading level0 col1\" >Gesamtsumme der Aktionsrabatte</th>\n",
       "      <th id=\"T_f4e56_level0_col2\" class=\"col_heading level0 col2\" >Amazon-Gebühren</th>\n",
       "      <th id=\"T_f4e56_level0_col3\" class=\"col_heading level0 col3\" >Andere</th>\n",
       "      <th id=\"T_f4e56_level0_col4\" class=\"col_heading level0 col4\" >Summe (EUR)</th>\n",
       "    </tr>\n",
       "    <tr>\n",
       "      <th class=\"index_name level0\" >Transaktionstyp</th>\n",
       "      <th class=\"blank col0\" >&nbsp;</th>\n",
       "      <th class=\"blank col1\" >&nbsp;</th>\n",
       "      <th class=\"blank col2\" >&nbsp;</th>\n",
       "      <th class=\"blank col3\" >&nbsp;</th>\n",
       "      <th class=\"blank col4\" >&nbsp;</th>\n",
       "    </tr>\n",
       "  </thead>\n",
       "  <tbody>\n",
       "    <tr>\n",
       "      <th id=\"T_f4e56_level0_row0\" class=\"row_heading level0 row0\" >Andere</th>\n",
       "      <td id=\"T_f4e56_row0_col0\" class=\"data row0 col0\" >0.000000</td>\n",
       "      <td id=\"T_f4e56_row0_col1\" class=\"data row0 col1\" >0.000000</td>\n",
       "      <td id=\"T_f4e56_row0_col2\" class=\"data row0 col2\" >0.000000</td>\n",
       "      <td id=\"T_f4e56_row0_col3\" class=\"data row0 col3\" >57.390000</td>\n",
       "      <td id=\"T_f4e56_row0_col4\" class=\"data row0 col4\" >57.390000</td>\n",
       "    </tr>\n",
       "    <tr>\n",
       "      <th id=\"T_f4e56_level0_row1\" class=\"row_heading level0 row1\" >Bei Amazon gekaufte Versandetiketten</th>\n",
       "      <td id=\"T_f4e56_row1_col0\" class=\"data row1 col0\" >-175.010000</td>\n",
       "      <td id=\"T_f4e56_row1_col1\" class=\"data row1 col1\" >0.000000</td>\n",
       "      <td id=\"T_f4e56_row1_col2\" class=\"data row1 col2\" >0.000000</td>\n",
       "      <td id=\"T_f4e56_row1_col3\" class=\"data row1 col3\" >-11.070000</td>\n",
       "      <td id=\"T_f4e56_row1_col4\" class=\"data row1 col4\" >-186.080000</td>\n",
       "    </tr>\n",
       "    <tr>\n",
       "      <th id=\"T_f4e56_level0_row2\" class=\"row_heading level0 row2\" >Bezahlung der Bestellung</th>\n",
       "      <td id=\"T_f4e56_row2_col0\" class=\"data row2 col0\" >9692.420000</td>\n",
       "      <td id=\"T_f4e56_row2_col1\" class=\"data row2 col1\" >-65.250000</td>\n",
       "      <td id=\"T_f4e56_row2_col2\" class=\"data row2 col2\" >-2519.640000</td>\n",
       "      <td id=\"T_f4e56_row2_col3\" class=\"data row2 col3\" >1920.870000</td>\n",
       "      <td id=\"T_f4e56_row2_col4\" class=\"data row2 col4\" >9028.400000</td>\n",
       "    </tr>\n",
       "    <tr>\n",
       "      <th id=\"T_f4e56_level0_row3\" class=\"row_heading level0 row3\" >Commingling VAT</th>\n",
       "      <td id=\"T_f4e56_row3_col0\" class=\"data row3 col0\" >0.000000</td>\n",
       "      <td id=\"T_f4e56_row3_col1\" class=\"data row3 col1\" >0.000000</td>\n",
       "      <td id=\"T_f4e56_row3_col2\" class=\"data row3 col2\" >0.000000</td>\n",
       "      <td id=\"T_f4e56_row3_col3\" class=\"data row3 col3\" >-61.610000</td>\n",
       "      <td id=\"T_f4e56_row3_col4\" class=\"data row3 col4\" >-61.610000</td>\n",
       "    </tr>\n",
       "    <tr>\n",
       "      <th id=\"T_f4e56_level0_row4\" class=\"row_heading level0 row4\" >Erstattung</th>\n",
       "      <td id=\"T_f4e56_row4_col0\" class=\"data row4 col0\" >-975.870000</td>\n",
       "      <td id=\"T_f4e56_row4_col1\" class=\"data row4 col1\" >1.670000</td>\n",
       "      <td id=\"T_f4e56_row4_col2\" class=\"data row4 col2\" >123.190000</td>\n",
       "      <td id=\"T_f4e56_row4_col3\" class=\"data row4 col3\" >-176.780000</td>\n",
       "      <td id=\"T_f4e56_row4_col4\" class=\"data row4 col4\" >-1027.790000</td>\n",
       "    </tr>\n",
       "    <tr>\n",
       "      <th id=\"T_f4e56_level0_row5\" class=\"row_heading level0 row5\" >Nicht verfügbarer Saldo</th>\n",
       "      <td id=\"T_f4e56_row5_col0\" class=\"data row5 col0\" >0.000000</td>\n",
       "      <td id=\"T_f4e56_row5_col1\" class=\"data row5 col1\" >0.000000</td>\n",
       "      <td id=\"T_f4e56_row5_col2\" class=\"data row5 col2\" >0.000000</td>\n",
       "      <td id=\"T_f4e56_row5_col3\" class=\"data row5 col3\" >-713.060000</td>\n",
       "      <td id=\"T_f4e56_row5_col4\" class=\"data row5 col4\" >-713.060000</td>\n",
       "    </tr>\n",
       "    <tr>\n",
       "      <th id=\"T_f4e56_level0_row6\" class=\"row_heading level0 row6\" >Nicht verfügbarer Saldo aus vorausgehender Abrechnung</th>\n",
       "      <td id=\"T_f4e56_row6_col0\" class=\"data row6 col0\" >0.000000</td>\n",
       "      <td id=\"T_f4e56_row6_col1\" class=\"data row6 col1\" >0.000000</td>\n",
       "      <td id=\"T_f4e56_row6_col2\" class=\"data row6 col2\" >0.000000</td>\n",
       "      <td id=\"T_f4e56_row6_col3\" class=\"data row6 col3\" >713.060000</td>\n",
       "      <td id=\"T_f4e56_row6_col4\" class=\"data row6 col4\" >713.060000</td>\n",
       "    </tr>\n",
       "    <tr>\n",
       "      <th id=\"T_f4e56_level0_row7\" class=\"row_heading level0 row7\" >Service-Gebühren</th>\n",
       "      <td id=\"T_f4e56_row7_col0\" class=\"data row7 col0\" >0.000000</td>\n",
       "      <td id=\"T_f4e56_row7_col1\" class=\"data row7 col1\" >0.000000</td>\n",
       "      <td id=\"T_f4e56_row7_col2\" class=\"data row7 col2\" >0.000000</td>\n",
       "      <td id=\"T_f4e56_row7_col3\" class=\"data row7 col3\" >-28.050000</td>\n",
       "      <td id=\"T_f4e56_row7_col4\" class=\"data row7 col4\" >-28.050000</td>\n",
       "    </tr>\n",
       "  </tbody>\n",
       "</table>\n"
      ],
      "text/plain": [
       "<pandas.io.formats.style.Styler at 0x12c412d30>"
      ]
     },
     "execution_count": 18,
     "metadata": {},
     "output_type": "execute_result"
    }
   ],
   "source": [
    " group.style.applymap(highlight_max)"
   ]
  },
  {
   "cell_type": "code",
   "execution_count": 19,
   "id": "63b60ae9-ef1e-42c0-b754-60f4b8bbb6ff",
   "metadata": {
    "tags": []
   },
   "outputs": [
    {
     "data": {
      "image/png": "[encoded data removed]",
      "text/plain": [
       "<Figure size 1200x600 with 1 Axes>"
      ]
     },
     "metadata": {},
     "output_type": "display_data"
    }
   ],
   "source": [
    "def barplot(group):  \n",
    "    # plot the bar chart\n",
    "    ax = group[\"Summe (EUR)\"].plot.bar(figsize=(12, 6), width=0.7)\n",
    "    # set the y-axis label\n",
    "    ax.set_ylabel(\"Summe (EUR)\")\n",
    "\n",
    "    # rotate the x-axis labels\n",
    "    plt.setp(ax.get_xticklabels(), rotation=45, ha=\"right\", rotation_mode=\"anchor\")\n",
    "\n",
    "    # loop over the containers\n",
    "    for container in ax.containers:\n",
    "        # loop over the bars in the container\n",
    "        for i in range(len(container.get_children())):\n",
    "            # check if the bar is positive\n",
    "            if container.get_children()[i].get_height() >= 0:\n",
    "                # set the bar color to green\n",
    "                container.get_children()[i].set_color(\"green\")\n",
    "            else:\n",
    "                # set the bar color to red\n",
    "                container.get_children()[i].set_color(\"red\")\n",
    "\n",
    "        # add the bar labels to the chart\n",
    "        ax.bar_label(container)\n",
    "\n",
    "        \n",
    "barplot(group)"
   ]
  },
  {
   "cell_type": "code",
   "execution_count": null,
   "id": "f31845f3-87ef-4af7-88ca-ccba62202ba8",
   "metadata": {},
   "outputs": [],
   "source": []
  }
 ],
 "metadata": {
  "kernelspec": {
   "display_name": "amz_cut360",
   "language": "python",
   "name": "amz_cut360"
  },
  "language_info": {
   "codemirror_mode": {
    "name": "ipython",
    "version": 3
   },
   "file_extension": ".py",
   "mimetype": "text/x-python",
   "name": "python",
   "nbconvert_exporter": "python",
   "pygments_lexer": "ipython3",
   "version": "3.9.16"
  }
 },
 "nbformat": 4,
 "nbformat_minor": 5
}
